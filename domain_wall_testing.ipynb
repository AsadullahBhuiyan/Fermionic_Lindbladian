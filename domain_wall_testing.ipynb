{
 "cells": [
  {
   "cell_type": "code",
   "execution_count": 3,
   "id": "6144d23d",
   "metadata": {},
   "outputs": [],
   "source": [
    "import importlib\n",
    "import numpy as np\n",
    "import matplotlib.pyplot as plt\n",
    "\n",
    "import CI_Lindblad_DW           # import the module (file: CI_Lindblad_DW.py)\n",
    "importlib.reload(CI_Lindblad_DW)  # hot‑reload if you’re editing the class\n",
    "from CI_Lindblad_DW import CI_Lindblad_DW\n",
    "\n",
    "plt.rcParams[\"figure.dpi\"] = 140"
   ]
  },
  {
   "cell_type": "code",
   "execution_count": 5,
   "id": "22525b87",
   "metadata": {},
   "outputs": [
    {
     "name": "stdout",
     "output_type": "stream",
     "text": [
      "[chern_marker_dynamics] step 37/250 | dt=5.000e-02 | iter=6.248e+00s | total=2.554e+02s | N=(31,31) | decoh=True\n"
     ]
    },
    {
     "ename": "KeyboardInterrupt",
     "evalue": "",
     "output_type": "error",
     "traceback": [
      "\u001b[31m---------------------------------------------------------------------------\u001b[39m",
      "\u001b[31mKeyboardInterrupt\u001b[39m                         Traceback (most recent call last)",
      "\u001b[36mCell\u001b[39m\u001b[36m \u001b[39m\u001b[32mIn[5]\u001b[39m\u001b[32m, line 6\u001b[39m\n\u001b[32m      2\u001b[39m N = \u001b[32m31\u001b[39m\n\u001b[32m      4\u001b[39m solver = CI_Lindblad_DW(Nx=N, Ny=N, decoh=\u001b[38;5;28;01mTrue\u001b[39;00m)\n\u001b[32m----> \u001b[39m\u001b[32m6\u001b[39m gif_path, final_path, C_last, G = \u001b[43msolver\u001b[49m\u001b[43m.\u001b[49m\u001b[43mchern_marker_dynamics\u001b[49m\u001b[43m(\u001b[49m\u001b[43mdt\u001b[49m\u001b[43m=\u001b[49m\u001b[32;43m5e-2\u001b[39;49m\u001b[43m,\u001b[49m\u001b[43m \u001b[49m\u001b[43mmax_steps\u001b[49m\u001b[43m=\u001b[49m\u001b[32;43m250\u001b[39;49m\u001b[43m,\u001b[49m\u001b[43m \u001b[49m\u001b[43mn_a\u001b[49m\u001b[43m=\u001b[49m\u001b[32;43m0.5\u001b[39;49m\u001b[43m,\u001b[49m\n\u001b[32m      7\u001b[39m \u001b[43m                              \u001b[49m\u001b[43mG_init\u001b[49m\u001b[43m=\u001b[49m\u001b[38;5;28;43;01mNone\u001b[39;49;00m\u001b[43m,\u001b[49m\u001b[43m \u001b[49m\u001b[43mfps\u001b[49m\u001b[43m=\u001b[49m\u001b[32;43m12\u001b[39;49m\u001b[43m,\u001b[49m\u001b[43m \u001b[49m\u001b[43mcmap\u001b[49m\u001b[43m=\u001b[49m\u001b[33;43m'\u001b[39;49m\u001b[33;43mRdBu_r\u001b[39;49m\u001b[33;43m'\u001b[39;49m\u001b[43m,\u001b[49m\n\u001b[32m      8\u001b[39m \u001b[43m                              \u001b[49m\u001b[43moutbasename\u001b[49m\u001b[43m=\u001b[49m\u001b[38;5;28;43;01mNone\u001b[39;49;00m\u001b[43m,\u001b[49m\u001b[43m \u001b[49m\u001b[43mvmin\u001b[49m\u001b[43m=\u001b[49m\u001b[43m-\u001b[49m\u001b[32;43m1.0\u001b[39;49m\u001b[43m,\u001b[49m\u001b[43m \u001b[49m\u001b[43mvmax\u001b[49m\u001b[43m=\u001b[49m\u001b[32;43m1.0\u001b[39;49m\u001b[43m)\u001b[49m\n\u001b[32m      9\u001b[39m \u001b[38;5;28mprint\u001b[39m(\u001b[33m\"\u001b[39m\u001b[33mSaved:\u001b[39m\u001b[33m\"\u001b[39m, gif_path, \u001b[33m\"\u001b[39m\u001b[33mand\u001b[39m\u001b[33m\"\u001b[39m, final_path)\n",
      "\u001b[36mFile \u001b[39m\u001b[32m~/Fermionic_Lindbladian/CI_Lindblad_DW.py:941\u001b[39m, in \u001b[36mCI_Lindblad_DW.chern_marker_dynamics\u001b[39m\u001b[34m(self, dt, max_steps, n_a, G_init, fps, cmap, outbasename, vmin, vmax)\u001b[39m\n\u001b[32m    939\u001b[39m \u001b[38;5;28;01mfor\u001b[39;00m step \u001b[38;5;129;01min\u001b[39;00m \u001b[38;5;28mrange\u001b[39m(\u001b[32m1\u001b[39m, \u001b[38;5;28mint\u001b[39m(max_steps) + \u001b[32m1\u001b[39m):\n\u001b[32m    940\u001b[39m     t0 = time.time()\n\u001b[32m--> \u001b[39m\u001b[32m941\u001b[39m     G, _ = \u001b[38;5;28;43mself\u001b[39;49m\u001b[43m.\u001b[49m\u001b[43mrk4_Lindblad_evolver\u001b[49m\u001b[43m(\u001b[49m\u001b[43mG\u001b[49m\u001b[43m,\u001b[49m\u001b[43m \u001b[49m\u001b[43mdt\u001b[49m\u001b[43m,\u001b[49m\u001b[43m \u001b[49m\u001b[43mn_a\u001b[49m\u001b[43m=\u001b[49m\u001b[43mn_a\u001b[49m\u001b[43m)\u001b[49m\n\u001b[32m    942\u001b[39m     iter_time = time.time() - t0\n\u001b[32m    944\u001b[39m     C = \u001b[38;5;28mself\u001b[39m.local_chern_marker(G)\n",
      "\u001b[36mFile \u001b[39m\u001b[32m~/Fermionic_Lindbladian/CI_Lindblad_DW.py:293\u001b[39m, in \u001b[36mCI_Lindblad_DW.rk4_Lindblad_evolver\u001b[39m\u001b[34m(self, G, dt, n_a, tmp)\u001b[39m\n\u001b[32m    291\u001b[39m \u001b[38;5;28;01mif\u001b[39;00m Y  \u001b[38;5;129;01mis\u001b[39;00m \u001b[38;5;28;01mNone\u001b[39;00m: Y  = tmp[\u001b[33m'\u001b[39m\u001b[33mY\u001b[39m\u001b[33m'\u001b[39m]  = np.empty_like(G)\n\u001b[32m    292\u001b[39m \u001b[38;5;66;03m# k1 = f(G)\u001b[39;00m\n\u001b[32m--> \u001b[39m\u001b[32m293\u001b[39m k1[:] = \u001b[38;5;28;43mself\u001b[39;49m\u001b[43m.\u001b[49m\u001b[43mLcycle\u001b[49m\u001b[43m(\u001b[49m\u001b[43mG\u001b[49m\u001b[43m,\u001b[49m\u001b[43m \u001b[49m\u001b[43mn_a\u001b[49m\u001b[43m)\u001b[49m\n\u001b[32m    294\u001b[39m \u001b[38;5;66;03m# k2 = f(G + dt/2 * k1)\u001b[39;00m\n\u001b[32m    295\u001b[39m np.multiply(k1, \u001b[32m0.5\u001b[39m*dt, out=Y); np.add(G, Y, out=Y)\n",
      "\u001b[36mFile \u001b[39m\u001b[32m~/Fermionic_Lindbladian/CI_Lindblad_DW.py:273\u001b[39m, in \u001b[36mCI_Lindblad_DW.Lcycle\u001b[39m\u001b[34m(self, G, n_a)\u001b[39m\n\u001b[32m    269\u001b[39m \u001b[38;5;250m\u001b[39m\u001b[33;03m'''\u001b[39;00m\n\u001b[32m    270\u001b[39m \u001b[33;03mG in (Nx, Ny, 2, Nx, Ny, 2)            \u001b[39;00m\n\u001b[32m    271\u001b[39m \u001b[33;03m'''\u001b[39;00m\n\u001b[32m    272\u001b[39m \u001b[38;5;28;01mif\u001b[39;00m \u001b[38;5;28mself\u001b[39m.decoh:\n\u001b[32m--> \u001b[39m\u001b[32m273\u001b[39m     Y = \u001b[38;5;28mself\u001b[39m.Lgain(G, n_a) + \u001b[38;5;28mself\u001b[39m.Lloss(G, n_a) + \u001b[38;5;28;43mself\u001b[39;49m\u001b[43m.\u001b[49m\u001b[43mLdecoh\u001b[49m\u001b[43m(\u001b[49m\u001b[43mG\u001b[49m\u001b[43m,\u001b[49m\u001b[43m \u001b[49m\u001b[43mn_a\u001b[49m\u001b[43m)\u001b[49m\n\u001b[32m    274\u001b[39m \u001b[38;5;28;01melse\u001b[39;00m:\n\u001b[32m    275\u001b[39m     Y = \u001b[38;5;28mself\u001b[39m.Lgain(G, n_a) + \u001b[38;5;28mself\u001b[39m.Lloss(G, n_a)\n",
      "\u001b[36mFile \u001b[39m\u001b[32m~/Fermionic_Lindbladian/CI_Lindblad_DW.py:263\u001b[39m, in \u001b[36mCI_Lindblad_DW.Ldecoh\u001b[39m\u001b[34m(self, G, n_a)\u001b[39m\n\u001b[32m    259\u001b[39m \u001b[38;5;250m\u001b[39m\u001b[33;03m'''\u001b[39;00m\n\u001b[32m    260\u001b[39m \u001b[33;03mG in (Nx, Ny, 2, Nx, Ny, 2)            \u001b[39;00m\n\u001b[32m    261\u001b[39m \u001b[33;03m'''\u001b[39;00m\n\u001b[32m    262\u001b[39m upperband_term = \u001b[38;5;28mself\u001b[39m.double_comm(G, \u001b[38;5;28mself\u001b[39m.W_A_plus, \u001b[38;5;28mself\u001b[39m.V_A_plus) + \u001b[38;5;28mself\u001b[39m.double_comm(G, \u001b[38;5;28mself\u001b[39m.W_B_plus, \u001b[38;5;28mself\u001b[39m.V_B_plus)\n\u001b[32m--> \u001b[39m\u001b[32m263\u001b[39m lowerband_term = \u001b[38;5;28mself\u001b[39m.double_comm(G, \u001b[38;5;28mself\u001b[39m.W_A_minus, \u001b[38;5;28mself\u001b[39m.V_A_minus) + \u001b[38;5;28;43mself\u001b[39;49m\u001b[43m.\u001b[49m\u001b[43mdouble_comm\u001b[49m\u001b[43m(\u001b[49m\u001b[43mG\u001b[49m\u001b[43m,\u001b[49m\u001b[43m \u001b[49m\u001b[38;5;28;43mself\u001b[39;49m\u001b[43m.\u001b[49m\u001b[43mW_B_minus\u001b[49m\u001b[43m,\u001b[49m\u001b[43m \u001b[49m\u001b[38;5;28;43mself\u001b[39;49m\u001b[43m.\u001b[49m\u001b[43mV_B_minus\u001b[49m\u001b[43m)\u001b[49m\n\u001b[32m    265\u001b[39m Y = -(\u001b[32m1\u001b[39m/\u001b[32m2\u001b[39m)*((\u001b[32m2\u001b[39m-n_a)*lowerband_term + (\u001b[32m1\u001b[39m+n_a)*upperband_term)\n\u001b[32m    266\u001b[39m \u001b[38;5;28;01mreturn\u001b[39;00m Y\n",
      "\u001b[36mFile \u001b[39m\u001b[32m~/Fermionic_Lindbladian/CI_Lindblad_DW.py:239\u001b[39m, in \u001b[36mCI_Lindblad_DW.double_comm\u001b[39m\u001b[34m(self, G, W, V)\u001b[39m\n\u001b[32m    236\u001b[39m     Y = -((\u001b[32m1\u001b[39m-n_a)/\u001b[32m2\u001b[39m)*(np.einsum(\u001b[33m'\u001b[39m\u001b[33mijklmn, lmnpqr -> ijkpqr\u001b[39m\u001b[33m'\u001b[39m, G, \u001b[38;5;28mself\u001b[39m.V_plus, optimize=\u001b[38;5;28;01mTrue\u001b[39;00m) + np.einsum(\u001b[33m'\u001b[39m\u001b[33mijklmn, lmnpqr -> ijkpqr\u001b[39m\u001b[33m'\u001b[39m, \u001b[38;5;28mself\u001b[39m.V_plus, G, optimize=\u001b[38;5;28;01mTrue\u001b[39;00m))   \n\u001b[32m    237\u001b[39m     \u001b[38;5;28;01mreturn\u001b[39;00m Y\n\u001b[32m--> \u001b[39m\u001b[32m239\u001b[39m \u001b[38;5;28;01mdef\u001b[39;00m\u001b[38;5;250m \u001b[39m\u001b[34mdouble_comm\u001b[39m(\u001b[38;5;28mself\u001b[39m, G, W, V):\n\u001b[32m    240\u001b[39m \u001b[38;5;250m    \u001b[39m\u001b[33;03m'''\u001b[39;00m\n\u001b[32m    241\u001b[39m \u001b[33;03m    G in (Nx, Ny, 2, Nx, Ny, 2)\u001b[39;00m\n\u001b[32m    242\u001b[39m \u001b[33;03m    '''\u001b[39;00m\n\u001b[32m    244\u001b[39m     \u001b[38;5;66;03m# Linear part: P G + G P\u001b[39;00m\n",
      "\u001b[31mKeyboardInterrupt\u001b[39m: "
     ]
    },
    {
     "data": {
      "image/png": "[encoded data removed]",
      "text/plain": [
       "<Figure size 448x532 with 2 Axes>"
      ]
     },
     "metadata": {},
     "output_type": "display_data"
    }
   ],
   "source": [
    "# Domain‑wall CI, decoherence ON: animate Chern marker and save final frame\n",
    "N = 31\n",
    "\n",
    "solver = CI_Lindblad_DW(Nx=N, Ny=N, decoh=True)\n",
    "\n",
    "gif_path, final_path, C_last, G = solver.chern_marker_dynamics(dt=5e-2, max_steps=250, n_a=0.5,\n",
    "                              G_init=None, fps=12, cmap='RdBu_r',\n",
    "                              outbasename=None, vmin=-1.0, vmax=1.0)\n",
    "print(\"Saved:\", gif_path, \"and\", final_path)"
   ]
  },
  {
   "cell_type": "code",
   "execution_count": null,
   "id": "0005c454",
   "metadata": {},
   "outputs": [],
   "source": [
    "# Domain‑wall CI, decoherence OFF\n",
    "N = 31\n",
    "\n",
    "solver = CI_Lindblad_DW(Nx=N, Ny=N, decoh=False)\n",
    "\n",
    "gif_path, final_path, C_last, G = solver.chern_marker_dynamics(dt=5e-2, max_steps=250, n_a=0.5,\n",
    "                              G_init=None, fps=12, cmap='RdBu_r',\n",
    "                              outbasename=None, vmin=-1.0, vmax=1.0)\n",
    "print(\"Saved:\", gif_path, \"and\", final_path)"
   ]
  },
  {
   "cell_type": "code",
   "execution_count": null,
   "id": "76367e57",
   "metadata": {},
   "outputs": [],
   "source": [
    "# Correlation profiles along y for several fixed x columns (probes both bulks + both walls)\n",
    "N = 31\n",
    "dt = 5e-2\n",
    "max_steps = 250\n",
    "ry_max = N\n",
    "\n",
    "solver = CI_Lindblad_DW(Nx=N, Ny=N, decoh=True)\n",
    "\n",
    "# (Optional) choose your own x columns (x0, label). If omitted, method picks sensible ones.\n",
    "# half = Nx // 2; w = int(np.floor(0.2 * Nx))\n",
    "# x0 = max(0, half - w); x1 = min(Nx, half + w + 1)\n",
    "# x_positions = [( (x0+x1)//2, \"topo bulk\"), (x0//2, \"trivial L\"), ((x1+Nx)//2, \"trivial R\"),\n",
    "#                ((x0-1)%Nx, \"wall L\"), (x1%Nx, \"wall R\")]\n",
    "\n",
    "pdf = solver.plot_corr_y_profiles(\n",
    "    dt=dt,\n",
    "    max_steps=max_steps,\n",
    "    ry_max=ry_max,\n",
    "    # x_positions=x_positions,\n",
    "    filename=f\"corr2_y_profiles_N={N}_decoh_on.pdf\",\n",
    ")\n",
    "print(\"Saved:\", pdf)"
   ]
  },
  {
   "cell_type": "code",
   "execution_count": null,
   "id": "72253dd8",
   "metadata": {},
   "outputs": [],
   "source": [
    "# Correlation profiles along y for several fixed x columns (probes both bulks + both walls)\n",
    "N = 31\n",
    "dt = 5e-2\n",
    "max_steps = 250\n",
    "ry_max = N\n",
    "\n",
    "solver = CI_Lindblad_DW(Nx=N, Ny=N, decoh=False)\n",
    "\n",
    "# (Optional) choose your own x columns (x0, label). If omitted, method picks sensible ones.\n",
    "# half = Nx // 2; w = int(np.floor(0.2 * Nx))\n",
    "# x0 = max(0, half - w); x1 = min(Nx, half + w + 1)\n",
    "# x_positions = [( (x0+x1)//2, \"topo bulk\"), (x0//2, \"trivial L\"), ((x1+Nx)//2, \"trivial R\"),\n",
    "#                ((x0-1)%Nx, \"wall L\"), (x1%Nx, \"wall R\")]\n",
    "\n",
    "pdf = solver.plot_corr_y_profiles(\n",
    "    dt=dt,\n",
    "    max_steps=max_steps,\n",
    "    ry_max=ry_max,\n",
    "    # x_positions=x_positions,\n",
    "    filename=f\"corr2_y_profiles_N={N}_decoh_off.pdf\",\n",
    ")\n",
    "print(\"Saved:\", pdf)"
   ]
  },
  {
   "cell_type": "code",
   "execution_count": null,
   "id": "77bc12be",
   "metadata": {},
   "outputs": [],
   "source": []
  }
 ],
 "metadata": {
  "kernelspec": {
   "display_name": "Python 3",
   "language": "python",
   "name": "python3"
  },
  "language_info": {
   "codemirror_mode": {
    "name": "ipython",
    "version": 3
   },
   "file_extension": ".py",
   "mimetype": "text/x-python",
   "name": "python",
   "nbconvert_exporter": "python",
   "pygments_lexer": "ipython3",
   "version": "3.11.13"
  }
 },
 "nbformat": 4,
 "nbformat_minor": 5
}
