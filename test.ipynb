{
 "cells": [
  {
   "cell_type": "code",
   "execution_count": 1,
   "metadata": {},
   "outputs": [],
   "source": [
    "import numpy as np\n",
    "import numpy.linalg as nla\n",
    "import numpy.random as random\n",
    "import scipy.linalg as la\n",
    "import scipy.sparse as sp"
   ]
  },
  {
   "cell_type": "code",
   "execution_count": 6,
   "metadata": {},
   "outputs": [
    {
     "name": "stdout",
     "output_type": "stream",
     "text": [
      "[0.64043044 0.16995743 0.98593776 0.2736787  0.96571637 0.36568223\n",
      " 0.42012448 0.06764497 0.44574312 0.37161154]\n"
     ]
    }
   ],
   "source": [
    "print(random.uniform(size = 10))"
   ]
  },
  {
   "cell_type": "code",
   "execution_count": 22,
   "metadata": {},
   "outputs": [
    {
     "name": "stdout",
     "output_type": "stream",
     "text": [
      "[[ 0.00000000e+00+1.65653198e-17j -2.08166817e-17+2.94902991e-17j\n",
      "  -1.73472348e-18+2.08166817e-17j  3.46944695e-18+2.77555756e-17j]\n",
      " [ 2.08166817e-17+2.94902991e-17j  0.00000000e+00+3.36613145e-19j\n",
      "  -1.38777878e-17+2.77555756e-17j  0.00000000e+00-1.04083409e-17j]\n",
      " [ 1.73472348e-18+2.08166817e-17j  1.38777878e-17+2.77555756e-17j\n",
      "   0.00000000e+00+1.51769665e-18j -3.46944695e-18+4.16333634e-17j]\n",
      " [-3.46944695e-18+2.77555756e-17j  0.00000000e+00-1.04083409e-17j\n",
      "   3.46944695e-18+4.16333634e-17j  0.00000000e+00+9.20861965e-19j]]\n"
     ]
    }
   ],
   "source": [
    "N = 4\n",
    "D = np.diag(random.uniform(size = N))\n",
    "# construct random unitary matrices\n",
    "Hmatrix = random.normal(size = (N, N)) + 1j*random.normal(size = (N, N))\n",
    "Hmatrix = (Hmatrix + np.conj(Hmatrix).T)/2\n",
    "Umatrix = la.expm(1j*Hmatrix)\n",
    "Gamma = Umatrix @ D @ np.conj(Umatrix).T\n"
   ]
  },
  {
   "cell_type": "code",
   "execution_count": 34,
   "metadata": {},
   "outputs": [
    {
     "name": "stdout",
     "output_type": "stream",
     "text": [
      "[[[1 2 2 4]\n",
      "  [3 4 6 8]\n",
      "  [3 6 4 8]\n",
      "  [9 12 12 16]]\n",
      "\n",
      " [[0 0 0 1]\n",
      "  [0 0 1 0]\n",
      "  [0 1 0 0]\n",
      "  [1 0 0 0]]]\n",
      "[[ 1  2  2  4]\n",
      " [ 3  4  6  8]\n",
      " [ 3  6  4  8]\n",
      " [ 9 12 12 16]]\n",
      "[[0 0 0 1]\n",
      " [0 0 1 0]\n",
      " [0 1 0 0]\n",
      " [1 0 0 0]]\n"
     ]
    }
   ],
   "source": [
    "# vectorizing kronecker products\n",
    "\n",
    "# List of NumPy arrays\n",
    "A = [np.array([[1, 2], [3, 4]]), np.array([[0, 1], [1, 0]])]\n",
    "\n",
    "# Convert to NumPy array to enable broadcasting\n",
    "A_arr = np.array(A, dtype=object)  # Using dtype=object since arrays have different contents\n",
    "kron_vec = np.vectorize(np.kron, signature='(m,n),(p,q)->(mp,nq)')\n",
    "kronecker_products = kron_vec(A_arr, A_arr)\n",
    "\n",
    "# Print results\n",
    "#print(kronecker_products.shape)  # Should be (len(A), len(A), ...)\n",
    "print(kronecker_products)\n",
    "print(np.kron([[1, 2], [3, 4]],[[1, 2], [3, 4]]))\n",
    "print(np.kron([[0,1],[1,0]],[[0,1],[1,0]]))"
   ]
  },
  {
   "cell_type": "code",
   "execution_count": 35,
   "metadata": {},
   "outputs": [
    {
     "name": "stdout",
     "output_type": "stream",
     "text": [
      "Loop Execution Time: 0.00363 seconds\n",
      "Vectorized Execution Time: 0.00468 seconds\n"
     ]
    },
    {
     "ename": "TypeError",
     "evalue": "ufunc 'isfinite' not supported for the input types, and the inputs could not be safely coerced to any supported types according to the casting rule ''safe''",
     "output_type": "error",
     "traceback": [
      "\u001b[0;31m---------------------------------------------------------------------------\u001b[0m",
      "\u001b[0;31mTypeError\u001b[0m                                 Traceback (most recent call last)",
      "Cell \u001b[0;32mIn[35], line 29\u001b[0m\n\u001b[1;32m     27\u001b[0m \u001b[38;5;28mprint\u001b[39m(\u001b[38;5;124mf\u001b[39m\u001b[38;5;124m\"\u001b[39m\u001b[38;5;124mLoop Execution Time: \u001b[39m\u001b[38;5;132;01m{\u001b[39;00mloop_time\u001b[38;5;132;01m:\u001b[39;00m\u001b[38;5;124m.5f\u001b[39m\u001b[38;5;132;01m}\u001b[39;00m\u001b[38;5;124m seconds\u001b[39m\u001b[38;5;124m\"\u001b[39m)\n\u001b[1;32m     28\u001b[0m \u001b[38;5;28mprint\u001b[39m(\u001b[38;5;124mf\u001b[39m\u001b[38;5;124m\"\u001b[39m\u001b[38;5;124mVectorized Execution Time: \u001b[39m\u001b[38;5;132;01m{\u001b[39;00mvectorized_time\u001b[38;5;132;01m:\u001b[39;00m\u001b[38;5;124m.5f\u001b[39m\u001b[38;5;132;01m}\u001b[39;00m\u001b[38;5;124m seconds\u001b[39m\u001b[38;5;124m\"\u001b[39m)\n\u001b[0;32m---> 29\u001b[0m \u001b[38;5;28mprint\u001b[39m(\u001b[38;5;124m\"\u001b[39m\u001b[38;5;124mResults are equal:\u001b[39m\u001b[38;5;124m\"\u001b[39m, np\u001b[38;5;241m.\u001b[39mallclose(loop_result, vectorized_result))\n",
      "File \u001b[0;32m/opt/anaconda3/lib/python3.12/site-packages/numpy/core/numeric.py:2241\u001b[0m, in \u001b[0;36mallclose\u001b[0;34m(a, b, rtol, atol, equal_nan)\u001b[0m\n\u001b[1;32m   2170\u001b[0m \u001b[38;5;129m@array_function_dispatch\u001b[39m(_allclose_dispatcher)\n\u001b[1;32m   2171\u001b[0m \u001b[38;5;28;01mdef\u001b[39;00m \u001b[38;5;21mallclose\u001b[39m(a, b, rtol\u001b[38;5;241m=\u001b[39m\u001b[38;5;241m1.e-5\u001b[39m, atol\u001b[38;5;241m=\u001b[39m\u001b[38;5;241m1.e-8\u001b[39m, equal_nan\u001b[38;5;241m=\u001b[39m\u001b[38;5;28;01mFalse\u001b[39;00m):\n\u001b[1;32m   2172\u001b[0m \u001b[38;5;250m    \u001b[39m\u001b[38;5;124;03m\"\"\"\u001b[39;00m\n\u001b[1;32m   2173\u001b[0m \u001b[38;5;124;03m    Returns True if two arrays are element-wise equal within a tolerance.\u001b[39;00m\n\u001b[1;32m   2174\u001b[0m \n\u001b[0;32m   (...)\u001b[0m\n\u001b[1;32m   2239\u001b[0m \n\u001b[1;32m   2240\u001b[0m \u001b[38;5;124;03m    \"\"\"\u001b[39;00m\n\u001b[0;32m-> 2241\u001b[0m     res \u001b[38;5;241m=\u001b[39m \u001b[38;5;28mall\u001b[39m(isclose(a, b, rtol\u001b[38;5;241m=\u001b[39mrtol, atol\u001b[38;5;241m=\u001b[39matol, equal_nan\u001b[38;5;241m=\u001b[39mequal_nan))\n\u001b[1;32m   2242\u001b[0m     \u001b[38;5;28;01mreturn\u001b[39;00m \u001b[38;5;28mbool\u001b[39m(res)\n",
      "File \u001b[0;32m/opt/anaconda3/lib/python3.12/site-packages/numpy/core/numeric.py:2349\u001b[0m, in \u001b[0;36misclose\u001b[0;34m(a, b, rtol, atol, equal_nan)\u001b[0m\n\u001b[1;32m   2346\u001b[0m     y \u001b[38;5;241m=\u001b[39m asanyarray(y, dtype\u001b[38;5;241m=\u001b[39mdt)\n\u001b[1;32m   2348\u001b[0m xfin \u001b[38;5;241m=\u001b[39m isfinite(x)\n\u001b[0;32m-> 2349\u001b[0m yfin \u001b[38;5;241m=\u001b[39m isfinite(y)\n\u001b[1;32m   2350\u001b[0m \u001b[38;5;28;01mif\u001b[39;00m \u001b[38;5;28mall\u001b[39m(xfin) \u001b[38;5;129;01mand\u001b[39;00m \u001b[38;5;28mall\u001b[39m(yfin):\n\u001b[1;32m   2351\u001b[0m     \u001b[38;5;28;01mreturn\u001b[39;00m within_tol(x, y, atol, rtol)\n",
      "\u001b[0;31mTypeError\u001b[0m: ufunc 'isfinite' not supported for the input types, and the inputs could not be safely coerced to any supported types according to the casting rule ''safe''"
     ]
    }
   ],
   "source": [
    "import numpy as np\n",
    "import time\n",
    "\n",
    "# Generate a list of 10 random 4x4 matrices\n",
    "N = 10\n",
    "matrices = [np.random.rand(4, 4) for _ in range(N)]\n",
    "\n",
    "# Convert to NumPy array (dtype=object needed for mixed-size arrays)\n",
    "matrices_arr = np.array(matrices, dtype=object)\n",
    "\n",
    "# Function to compute Kronecker product\n",
    "def kron_product(A, B):\n",
    "    return np.kron(A, B)\n",
    "\n",
    "# Benchmark Explicit Loop\n",
    "start_time = time.time()\n",
    "loop_result = np.array([[np.kron(A, B) for B in matrices] for A in matrices])\n",
    "loop_time = time.time() - start_time\n",
    "\n",
    "# Benchmark np.vectorize\n",
    "kron_vec = np.vectorize(kron_product, signature='(m,n),(p,q)->(mp,nq)')\n",
    "start_time = time.time()\n",
    "vectorized_result = kron_vec(matrices_arr[:, None], matrices_arr[None, :])\n",
    "vectorized_time = time.time() - start_time\n",
    "\n",
    "# Print results\n",
    "print(f\"Loop Execution Time: {loop_time:.5f} seconds\")\n",
    "print(f\"Vectorized Execution Time: {vectorized_time:.5f} seconds\")\n",
    "print(\"Results are equal:\", np.allclose(loop_result, vectorized_result))"
   ]
  },
  {
   "cell_type": "code",
   "execution_count": 41,
   "metadata": {},
   "outputs": [
    {
     "name": "stdout",
     "output_type": "stream",
     "text": [
      "<class 'numpy.ndarray'>\n"
     ]
    }
   ],
   "source": [
    "v = random.uniform(size = (1, 5))\n",
    "u = random.uniform(size = (5,1))\n",
    "print(type(u @ v))\n"
   ]
  },
  {
   "cell_type": "code",
   "execution_count": 48,
   "metadata": {},
   "outputs": [
    {
     "name": "stdout",
     "output_type": "stream",
     "text": [
      "[(-1.0, -1.0), (-1.0, -0.8), (-1.0, -0.6000000000000001), (-1.0, -0.4), (-1.0, -0.2), (-1.0, 0.0), (-1.0, 0.2), (-1.0, 0.4), (-1.0, 0.6000000000000001), (-1.0, 0.8)]\n"
     ]
    }
   ],
   "source": [
    "import numpy as np\n",
    "from itertools import product\n",
    "\n",
    "Lx, Ly = 10, 10  # Example values\n",
    "\n",
    "nx = np.arange(-Lx/2, Lx/2, 1)\n",
    "ny = np.arange(-Ly/2, Ly/2, 1)\n",
    "kx = (2/Lx) * nx\n",
    "ky = (2/Ly) * ny\n",
    "\n",
    "# Swap ky and kx in product() so kx changes first\n",
    "grid_points = list(product(kx, ky))  # CORRECT order: kx changes first\n",
    "\n",
    "print(grid_points[:10])  # First 10 elements"
   ]
  },
  {
   "cell_type": "code",
   "execution_count": 56,
   "metadata": {},
   "outputs": [
    {
     "name": "stdout",
     "output_type": "stream",
     "text": [
      "[[-1.  -1. ]\n",
      " [-1.  -0.6]\n",
      " [-1.  -0.2]\n",
      " [-1.   0.2]\n",
      " [-1.   0.6]\n",
      " [-0.6 -1. ]\n",
      " [-0.6 -0.6]\n",
      " [-0.6 -0.2]\n",
      " [-0.6  0.2]\n",
      " [-0.6  0.6]\n",
      " [-0.2 -1. ]\n",
      " [-0.2 -0.6]\n",
      " [-0.2 -0.2]\n",
      " [-0.2  0.2]\n",
      " [-0.2  0.6]\n",
      " [ 0.2 -1. ]\n",
      " [ 0.2 -0.6]\n",
      " [ 0.2 -0.2]\n",
      " [ 0.2  0.2]\n",
      " [ 0.2  0.6]\n",
      " [ 0.6 -1. ]\n",
      " [ 0.6 -0.6]\n",
      " [ 0.6 -0.2]\n",
      " [ 0.6  0.2]\n",
      " [ 0.6  0.6]]\n"
     ]
    }
   ],
   "source": [
    "Lx = 5\n",
    "Ly = 5\n",
    "kx = (2/Lx)*np.arange(-Lx/2, Lx/2, 1)\n",
    "ky = (2/Ly)*np.arange(-Ly/2, Ly/2, 1)\n",
    "k_grid = np.array(list(product(ky, kx)))[:, ::-1]\n",
    "print(k_grid)"
   ]
  },
  {
   "cell_type": "code",
   "execution_count": null,
   "metadata": {},
   "outputs": [],
   "source": []
  }
 ],
 "metadata": {
  "kernelspec": {
   "display_name": "base",
   "language": "python",
   "name": "python3"
  },
  "language_info": {
   "codemirror_mode": {
    "name": "ipython",
    "version": 3
   },
   "file_extension": ".py",
   "mimetype": "text/x-python",
   "name": "python",
   "nbconvert_exporter": "python",
   "pygments_lexer": "ipython3",
   "version": "3.12.4"
  }
 },
 "nbformat": 4,
 "nbformat_minor": 2
}
